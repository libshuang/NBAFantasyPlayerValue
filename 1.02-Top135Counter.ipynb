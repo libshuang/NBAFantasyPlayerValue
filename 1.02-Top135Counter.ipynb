{
 "cells": [
  {
   "cell_type": "code",
   "execution_count": null,
   "metadata": {},
   "outputs": [],
   "source": [
    "df = pd.read_csv('prrankings2020alum.csv')\n",
    "df"
   ]
  },
  {
   "cell_type": "code",
   "execution_count": null,
   "metadata": {},
   "outputs": [],
   "source": [
    "df.drop(columns = ['FG%', 'FGA', 'FT%', 'FTA', '3PA' ,'3P%', '3P%_Adj'], inplace = True)"
   ]
  },
  {
   "cell_type": "code",
   "execution_count": null,
   "metadata": {},
   "outputs": [],
   "source": [
    "df['Top1'] = ''\n",
    "df['Top3'] = ''\n",
    "df['Top5'] = ''"
   ]
  },
  {
   "cell_type": "code",
   "execution_count": null,
   "metadata": {},
   "outputs": [],
   "source": [
    "for j in range(0,len(df)):\n",
    "    counter = 0\n",
    "    for i in range(1,11):\n",
    "        if df.loc[j][i] > 1.96:\n",
    "            counter += 1\n",
    "    df['Top1'][j] = counter"
   ]
  },
  {
   "cell_type": "code",
   "execution_count": null,
   "metadata": {},
   "outputs": [],
   "source": [
    "for j in range(0,len(df)):\n",
    "    counter = 0\n",
    "    for i in range(1,11):\n",
    "        if df.loc[j][i] >= 1.5:\n",
    "            counter += 1\n",
    "    df['Top3'][j] = counter"
   ]
  },
  {
   "cell_type": "code",
   "execution_count": null,
   "metadata": {},
   "outputs": [],
   "source": [
    "for j in range(0,len(df)):\n",
    "    counter = 0\n",
    "    for i in range(1,11):\n",
    "        if df.loc[j][i] >= 1.0:\n",
    "            counter += 1\n",
    "    df['Top5'][j] = counter"
   ]
  }
 ],
 "metadata": {
  "kernelspec": {
   "display_name": "Python 3",
   "language": "python",
   "name": "python3"
  },
  "language_info": {
   "codemirror_mode": {
    "name": "ipython",
    "version": 3
   },
   "file_extension": ".py",
   "mimetype": "text/x-python",
   "name": "python",
   "nbconvert_exporter": "python",
   "pygments_lexer": "ipython3",
   "version": "3.8.8"
  }
 },
 "nbformat": 4,
 "nbformat_minor": 2
}
