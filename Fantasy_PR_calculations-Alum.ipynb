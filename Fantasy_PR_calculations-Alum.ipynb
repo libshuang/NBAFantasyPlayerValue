{
 "cells": [
  {
   "cell_type": "markdown",
   "metadata": {},
   "source": [
    "### Package and Data Import"
   ]
  },
  {
   "cell_type": "code",
   "execution_count": 1,
   "metadata": {},
   "outputs": [],
   "source": [
    "import seaborn as sns\n",
    "import scipy as sc"
   ]
  },
  {
   "cell_type": "code",
   "execution_count": 2,
   "metadata": {},
   "outputs": [
    {
     "data": {
      "application/javascript": [
       "\n",
       "        if (window._pyforest_update_imports_cell) { window._pyforest_update_imports_cell('import pandas as pd'); }\n",
       "    "
      ],
      "text/plain": [
       "<IPython.core.display.Javascript object>"
      ]
     },
     "metadata": {},
     "output_type": "display_data"
    },
    {
     "data": {
      "text/html": [
       "<div>\n",
       "<style scoped>\n",
       "    .dataframe tbody tr th:only-of-type {\n",
       "        vertical-align: middle;\n",
       "    }\n",
       "\n",
       "    .dataframe tbody tr th {\n",
       "        vertical-align: top;\n",
       "    }\n",
       "\n",
       "    .dataframe thead th {\n",
       "        text-align: right;\n",
       "    }\n",
       "</style>\n",
       "<table border=\"1\" class=\"dataframe\">\n",
       "  <thead>\n",
       "    <tr style=\"text-align: right;\">\n",
       "      <th></th>\n",
       "      <th>Player</th>\n",
       "      <th>Pos</th>\n",
       "      <th>Age</th>\n",
       "      <th>Tm</th>\n",
       "      <th>G</th>\n",
       "      <th>GS</th>\n",
       "      <th>MP</th>\n",
       "      <th>FG</th>\n",
       "      <th>FGA</th>\n",
       "      <th>FG%</th>\n",
       "      <th>...</th>\n",
       "      <th>ORB</th>\n",
       "      <th>DRB</th>\n",
       "      <th>TRB</th>\n",
       "      <th>AST</th>\n",
       "      <th>STL</th>\n",
       "      <th>BLK</th>\n",
       "      <th>TOV</th>\n",
       "      <th>PF</th>\n",
       "      <th>PTS</th>\n",
       "      <th>url</th>\n",
       "    </tr>\n",
       "  </thead>\n",
       "  <tbody>\n",
       "    <tr>\n",
       "      <th>0</th>\n",
       "      <td>Steven Adams</td>\n",
       "      <td>C</td>\n",
       "      <td>26</td>\n",
       "      <td>OKC</td>\n",
       "      <td>63</td>\n",
       "      <td>63</td>\n",
       "      <td>26.7</td>\n",
       "      <td>4.5</td>\n",
       "      <td>7.6</td>\n",
       "      <td>0.592</td>\n",
       "      <td>...</td>\n",
       "      <td>3.3</td>\n",
       "      <td>6.0</td>\n",
       "      <td>9.3</td>\n",
       "      <td>2.3</td>\n",
       "      <td>0.8</td>\n",
       "      <td>1.1</td>\n",
       "      <td>1.5</td>\n",
       "      <td>1.9</td>\n",
       "      <td>10.9</td>\n",
       "      <td>adamsst01</td>\n",
       "    </tr>\n",
       "    <tr>\n",
       "      <th>1</th>\n",
       "      <td>Bam Adebayo</td>\n",
       "      <td>PF</td>\n",
       "      <td>22</td>\n",
       "      <td>MIA</td>\n",
       "      <td>72</td>\n",
       "      <td>72</td>\n",
       "      <td>33.6</td>\n",
       "      <td>6.1</td>\n",
       "      <td>11.0</td>\n",
       "      <td>0.557</td>\n",
       "      <td>...</td>\n",
       "      <td>2.4</td>\n",
       "      <td>7.8</td>\n",
       "      <td>10.2</td>\n",
       "      <td>5.1</td>\n",
       "      <td>1.1</td>\n",
       "      <td>1.3</td>\n",
       "      <td>2.8</td>\n",
       "      <td>2.5</td>\n",
       "      <td>15.9</td>\n",
       "      <td>adebaba01</td>\n",
       "    </tr>\n",
       "    <tr>\n",
       "      <th>2</th>\n",
       "      <td>LaMarcus Aldridge</td>\n",
       "      <td>C</td>\n",
       "      <td>34</td>\n",
       "      <td>SAS</td>\n",
       "      <td>53</td>\n",
       "      <td>53</td>\n",
       "      <td>33.1</td>\n",
       "      <td>7.4</td>\n",
       "      <td>15.0</td>\n",
       "      <td>0.493</td>\n",
       "      <td>...</td>\n",
       "      <td>1.9</td>\n",
       "      <td>5.5</td>\n",
       "      <td>7.4</td>\n",
       "      <td>2.4</td>\n",
       "      <td>0.7</td>\n",
       "      <td>1.6</td>\n",
       "      <td>1.4</td>\n",
       "      <td>2.4</td>\n",
       "      <td>18.9</td>\n",
       "      <td>aldrila01</td>\n",
       "    </tr>\n",
       "    <tr>\n",
       "      <th>3</th>\n",
       "      <td>Kyle Alexander</td>\n",
       "      <td>PF</td>\n",
       "      <td>23</td>\n",
       "      <td>MIA</td>\n",
       "      <td>2</td>\n",
       "      <td>0</td>\n",
       "      <td>6.5</td>\n",
       "      <td>0.5</td>\n",
       "      <td>1.0</td>\n",
       "      <td>0.500</td>\n",
       "      <td>...</td>\n",
       "      <td>1.0</td>\n",
       "      <td>0.5</td>\n",
       "      <td>1.5</td>\n",
       "      <td>0.0</td>\n",
       "      <td>0.0</td>\n",
       "      <td>0.0</td>\n",
       "      <td>0.5</td>\n",
       "      <td>0.5</td>\n",
       "      <td>1.0</td>\n",
       "      <td>alexaky01</td>\n",
       "    </tr>\n",
       "    <tr>\n",
       "      <th>4</th>\n",
       "      <td>Nickeil Alexander-Walker</td>\n",
       "      <td>SG</td>\n",
       "      <td>21</td>\n",
       "      <td>NOP</td>\n",
       "      <td>47</td>\n",
       "      <td>1</td>\n",
       "      <td>12.6</td>\n",
       "      <td>2.1</td>\n",
       "      <td>5.7</td>\n",
       "      <td>0.368</td>\n",
       "      <td>...</td>\n",
       "      <td>0.2</td>\n",
       "      <td>1.6</td>\n",
       "      <td>1.8</td>\n",
       "      <td>1.9</td>\n",
       "      <td>0.4</td>\n",
       "      <td>0.2</td>\n",
       "      <td>1.1</td>\n",
       "      <td>1.2</td>\n",
       "      <td>5.7</td>\n",
       "      <td>alexani01</td>\n",
       "    </tr>\n",
       "    <tr>\n",
       "      <th>...</th>\n",
       "      <td>...</td>\n",
       "      <td>...</td>\n",
       "      <td>...</td>\n",
       "      <td>...</td>\n",
       "      <td>...</td>\n",
       "      <td>...</td>\n",
       "      <td>...</td>\n",
       "      <td>...</td>\n",
       "      <td>...</td>\n",
       "      <td>...</td>\n",
       "      <td>...</td>\n",
       "      <td>...</td>\n",
       "      <td>...</td>\n",
       "      <td>...</td>\n",
       "      <td>...</td>\n",
       "      <td>...</td>\n",
       "      <td>...</td>\n",
       "      <td>...</td>\n",
       "      <td>...</td>\n",
       "      <td>...</td>\n",
       "      <td>...</td>\n",
       "    </tr>\n",
       "    <tr>\n",
       "      <th>525</th>\n",
       "      <td>Cody Zeller</td>\n",
       "      <td>C</td>\n",
       "      <td>27</td>\n",
       "      <td>CHO</td>\n",
       "      <td>58</td>\n",
       "      <td>39</td>\n",
       "      <td>23.1</td>\n",
       "      <td>4.3</td>\n",
       "      <td>8.3</td>\n",
       "      <td>0.524</td>\n",
       "      <td>...</td>\n",
       "      <td>2.8</td>\n",
       "      <td>4.3</td>\n",
       "      <td>7.1</td>\n",
       "      <td>1.5</td>\n",
       "      <td>0.7</td>\n",
       "      <td>0.4</td>\n",
       "      <td>1.3</td>\n",
       "      <td>2.4</td>\n",
       "      <td>11.1</td>\n",
       "      <td>zelleco01</td>\n",
       "    </tr>\n",
       "    <tr>\n",
       "      <th>526</th>\n",
       "      <td>Tyler Zeller</td>\n",
       "      <td>C</td>\n",
       "      <td>30</td>\n",
       "      <td>SAS</td>\n",
       "      <td>2</td>\n",
       "      <td>0</td>\n",
       "      <td>2.0</td>\n",
       "      <td>0.5</td>\n",
       "      <td>2.0</td>\n",
       "      <td>0.250</td>\n",
       "      <td>...</td>\n",
       "      <td>1.5</td>\n",
       "      <td>0.5</td>\n",
       "      <td>2.0</td>\n",
       "      <td>0.0</td>\n",
       "      <td>0.0</td>\n",
       "      <td>0.0</td>\n",
       "      <td>0.0</td>\n",
       "      <td>0.0</td>\n",
       "      <td>1.0</td>\n",
       "      <td>zellety01</td>\n",
       "    </tr>\n",
       "    <tr>\n",
       "      <th>527</th>\n",
       "      <td>Ante Žižić</td>\n",
       "      <td>C</td>\n",
       "      <td>23</td>\n",
       "      <td>CLE</td>\n",
       "      <td>22</td>\n",
       "      <td>0</td>\n",
       "      <td>10.0</td>\n",
       "      <td>1.9</td>\n",
       "      <td>3.3</td>\n",
       "      <td>0.569</td>\n",
       "      <td>...</td>\n",
       "      <td>0.8</td>\n",
       "      <td>2.2</td>\n",
       "      <td>3.0</td>\n",
       "      <td>0.3</td>\n",
       "      <td>0.3</td>\n",
       "      <td>0.2</td>\n",
       "      <td>0.5</td>\n",
       "      <td>1.2</td>\n",
       "      <td>4.4</td>\n",
       "      <td>zizican01</td>\n",
       "    </tr>\n",
       "    <tr>\n",
       "      <th>528</th>\n",
       "      <td>Ivica Zubac</td>\n",
       "      <td>C</td>\n",
       "      <td>22</td>\n",
       "      <td>LAC</td>\n",
       "      <td>72</td>\n",
       "      <td>70</td>\n",
       "      <td>18.4</td>\n",
       "      <td>3.3</td>\n",
       "      <td>5.3</td>\n",
       "      <td>0.613</td>\n",
       "      <td>...</td>\n",
       "      <td>2.7</td>\n",
       "      <td>4.8</td>\n",
       "      <td>7.5</td>\n",
       "      <td>1.1</td>\n",
       "      <td>0.2</td>\n",
       "      <td>0.9</td>\n",
       "      <td>0.8</td>\n",
       "      <td>2.3</td>\n",
       "      <td>8.3</td>\n",
       "      <td>zubaciv01</td>\n",
       "    </tr>\n",
       "    <tr>\n",
       "      <th>529</th>\n",
       "      <td>EmptyInj Slot</td>\n",
       "      <td>G</td>\n",
       "      <td>69</td>\n",
       "      <td>BOS</td>\n",
       "      <td>82</td>\n",
       "      <td>82</td>\n",
       "      <td>10.0</td>\n",
       "      <td>0.0</td>\n",
       "      <td>0.0</td>\n",
       "      <td>0.000</td>\n",
       "      <td>...</td>\n",
       "      <td>0.0</td>\n",
       "      <td>0.0</td>\n",
       "      <td>0.0</td>\n",
       "      <td>0.0</td>\n",
       "      <td>0.0</td>\n",
       "      <td>0.0</td>\n",
       "      <td>0.0</td>\n",
       "      <td>0.0</td>\n",
       "      <td>0.0</td>\n",
       "      <td>NaN</td>\n",
       "    </tr>\n",
       "  </tbody>\n",
       "</table>\n",
       "<p>530 rows × 30 columns</p>\n",
       "</div>"
      ],
      "text/plain": [
       "                       Player Pos  Age   Tm   G  GS    MP   FG   FGA    FG%  \\\n",
       "0                Steven Adams   C   26  OKC  63  63  26.7  4.5   7.6  0.592   \n",
       "1                 Bam Adebayo  PF   22  MIA  72  72  33.6  6.1  11.0  0.557   \n",
       "2           LaMarcus Aldridge   C   34  SAS  53  53  33.1  7.4  15.0  0.493   \n",
       "3              Kyle Alexander  PF   23  MIA   2   0   6.5  0.5   1.0  0.500   \n",
       "4    Nickeil Alexander-Walker  SG   21  NOP  47   1  12.6  2.1   5.7  0.368   \n",
       "..                        ...  ..  ...  ...  ..  ..   ...  ...   ...    ...   \n",
       "525               Cody Zeller   C   27  CHO  58  39  23.1  4.3   8.3  0.524   \n",
       "526              Tyler Zeller   C   30  SAS   2   0   2.0  0.5   2.0  0.250   \n",
       "527                Ante Žižić   C   23  CLE  22   0  10.0  1.9   3.3  0.569   \n",
       "528               Ivica Zubac   C   22  LAC  72  70  18.4  3.3   5.3  0.613   \n",
       "529             EmptyInj Slot   G   69  BOS  82  82  10.0  0.0   0.0  0.000   \n",
       "\n",
       "     ...  ORB  DRB   TRB  AST  STL  BLK  TOV   PF   PTS        url  \n",
       "0    ...  3.3  6.0   9.3  2.3  0.8  1.1  1.5  1.9  10.9  adamsst01  \n",
       "1    ...  2.4  7.8  10.2  5.1  1.1  1.3  2.8  2.5  15.9  adebaba01  \n",
       "2    ...  1.9  5.5   7.4  2.4  0.7  1.6  1.4  2.4  18.9  aldrila01  \n",
       "3    ...  1.0  0.5   1.5  0.0  0.0  0.0  0.5  0.5   1.0  alexaky01  \n",
       "4    ...  0.2  1.6   1.8  1.9  0.4  0.2  1.1  1.2   5.7  alexani01  \n",
       "..   ...  ...  ...   ...  ...  ...  ...  ...  ...   ...        ...  \n",
       "525  ...  2.8  4.3   7.1  1.5  0.7  0.4  1.3  2.4  11.1  zelleco01  \n",
       "526  ...  1.5  0.5   2.0  0.0  0.0  0.0  0.0  0.0   1.0  zellety01  \n",
       "527  ...  0.8  2.2   3.0  0.3  0.3  0.2  0.5  1.2   4.4  zizican01  \n",
       "528  ...  2.7  4.8   7.5  1.1  0.2  0.9  0.8  2.3   8.3  zubaciv01  \n",
       "529  ...  0.0  0.0   0.0  0.0  0.0  0.0  0.0  0.0   0.0        NaN  \n",
       "\n",
       "[530 rows x 30 columns]"
      ]
     },
     "execution_count": 2,
     "metadata": {},
     "output_type": "execute_result"
    }
   ],
   "source": [
    "df = pd.read_csv('inj2020.csv')\n",
    "df"
   ]
  },
  {
   "cell_type": "markdown",
   "metadata": {},
   "source": [
    "### Cleaning"
   ]
  },
  {
   "cell_type": "code",
   "execution_count": 4,
   "metadata": {},
   "outputs": [],
   "source": [
    "## Clean up names, split names and URL into respective columns\n",
    "##Drop duplicates names, keep TOT"
   ]
  },
  {
   "cell_type": "code",
   "execution_count": 3,
   "metadata": {},
   "outputs": [],
   "source": [
    "# Split names\n",
    "## Create URL for future use\n",
    "df['url'] = ''"
   ]
  },
  {
   "cell_type": "code",
   "execution_count": 4,
   "metadata": {},
   "outputs": [
    {
     "name": "stderr",
     "output_type": "stream",
     "text": [
      "C:\\Users\\bhuan\\Anaconda3\\lib\\site-packages\\ipykernel_launcher.py:5: SettingWithCopyWarning: \n",
      "A value is trying to be set on a copy of a slice from a DataFrame\n",
      "\n",
      "See the caveats in the documentation: http://pandas.pydata.org/pandas-docs/stable/user_guide/indexing.html#returning-a-view-versus-a-copy\n",
      "  \"\"\"\n",
      "C:\\Users\\bhuan\\Anaconda3\\lib\\site-packages\\ipykernel_launcher.py:6: SettingWithCopyWarning: \n",
      "A value is trying to be set on a copy of a slice from a DataFrame\n",
      "\n",
      "See the caveats in the documentation: http://pandas.pydata.org/pandas-docs/stable/user_guide/indexing.html#returning-a-view-versus-a-copy\n",
      "  \n"
     ]
    }
   ],
   "source": [
    "#Split names and URL into respective columns\n",
    "for i in range(0, len(df)):\n",
    "    name = df['Player'][i].split('\\\\')[0]\n",
    "    url = df['Player'][i].split('\\\\')[1]\n",
    "    df['Player'][i] = name\n",
    "    df['url'][i] = url"
   ]
  },
  {
   "cell_type": "code",
   "execution_count": 5,
   "metadata": {},
   "outputs": [],
   "source": [
    "##Drop duplicates names, keep TOT\n",
    "df.drop_duplicates(subset=['Player'], keep='first', inplace = True)"
   ]
  },
  {
   "cell_type": "code",
   "execution_count": 3,
   "metadata": {},
   "outputs": [],
   "source": [
    "# Remove all null FGA, FTA. If you played in the nba you have to have at least 0.0001 FGA or FTA\n",
    "df.dropna(subset=['FGA', 'FTA'])\n",
    "# > Fill in null 3PA, 3P as 0\n",
    "df.fillna(0, inplace = True)\n",
    "# > 5 games; to weed out the 10 day players; due to uncircumstancial injuries, there tend to\n",
    "# be a random\n",
    "df = df[df['G'] > 5]"
   ]
  },
  {
   "cell_type": "code",
   "execution_count": 4,
   "metadata": {},
   "outputs": [],
   "source": [
    "#make sure everything is good\n",
    "def find_missing(data):\n",
    "    # number of missing values\n",
    "    count_missing = data.isnull().sum().values\n",
    "    # total records\n",
    "    total = data.shape[0]\n",
    "    # percentage of missing\n",
    "    ratio_missing = count_missing/total\n",
    "    # return a dataframe to show: feature name, # of missing and % of missing\n",
    "    return pd.DataFrame(data={'missing_count':count_missing, 'missing_ratio':ratio_missing}, index=data.columns.values)"
   ]
  },
  {
   "cell_type": "code",
   "execution_count": 5,
   "metadata": {},
   "outputs": [
    {
     "data": {
      "application/javascript": [
       "\n",
       "        if (window._pyforest_update_imports_cell) { window._pyforest_update_imports_cell('import pandas as pd'); }\n",
       "    "
      ],
      "text/plain": [
       "<IPython.core.display.Javascript object>"
      ]
     },
     "metadata": {},
     "output_type": "display_data"
    },
    {
     "data": {
      "text/html": [
       "<div>\n",
       "<style scoped>\n",
       "    .dataframe tbody tr th:only-of-type {\n",
       "        vertical-align: middle;\n",
       "    }\n",
       "\n",
       "    .dataframe tbody tr th {\n",
       "        vertical-align: top;\n",
       "    }\n",
       "\n",
       "    .dataframe thead th {\n",
       "        text-align: right;\n",
       "    }\n",
       "</style>\n",
       "<table border=\"1\" class=\"dataframe\">\n",
       "  <thead>\n",
       "    <tr style=\"text-align: right;\">\n",
       "      <th></th>\n",
       "      <th>missing_count</th>\n",
       "      <th>missing_ratio</th>\n",
       "    </tr>\n",
       "  </thead>\n",
       "  <tbody>\n",
       "    <tr>\n",
       "      <th>Player</th>\n",
       "      <td>0</td>\n",
       "      <td>0.0</td>\n",
       "    </tr>\n",
       "    <tr>\n",
       "      <th>Pos</th>\n",
       "      <td>0</td>\n",
       "      <td>0.0</td>\n",
       "    </tr>\n",
       "    <tr>\n",
       "      <th>Age</th>\n",
       "      <td>0</td>\n",
       "      <td>0.0</td>\n",
       "    </tr>\n",
       "    <tr>\n",
       "      <th>Tm</th>\n",
       "      <td>0</td>\n",
       "      <td>0.0</td>\n",
       "    </tr>\n",
       "    <tr>\n",
       "      <th>G</th>\n",
       "      <td>0</td>\n",
       "      <td>0.0</td>\n",
       "    </tr>\n",
       "    <tr>\n",
       "      <th>GS</th>\n",
       "      <td>0</td>\n",
       "      <td>0.0</td>\n",
       "    </tr>\n",
       "    <tr>\n",
       "      <th>MP</th>\n",
       "      <td>0</td>\n",
       "      <td>0.0</td>\n",
       "    </tr>\n",
       "    <tr>\n",
       "      <th>FG</th>\n",
       "      <td>0</td>\n",
       "      <td>0.0</td>\n",
       "    </tr>\n",
       "    <tr>\n",
       "      <th>FGA</th>\n",
       "      <td>0</td>\n",
       "      <td>0.0</td>\n",
       "    </tr>\n",
       "    <tr>\n",
       "      <th>FG%</th>\n",
       "      <td>0</td>\n",
       "      <td>0.0</td>\n",
       "    </tr>\n",
       "    <tr>\n",
       "      <th>3P</th>\n",
       "      <td>0</td>\n",
       "      <td>0.0</td>\n",
       "    </tr>\n",
       "    <tr>\n",
       "      <th>3PA</th>\n",
       "      <td>0</td>\n",
       "      <td>0.0</td>\n",
       "    </tr>\n",
       "    <tr>\n",
       "      <th>3P%</th>\n",
       "      <td>0</td>\n",
       "      <td>0.0</td>\n",
       "    </tr>\n",
       "    <tr>\n",
       "      <th>2P</th>\n",
       "      <td>0</td>\n",
       "      <td>0.0</td>\n",
       "    </tr>\n",
       "    <tr>\n",
       "      <th>2PA</th>\n",
       "      <td>0</td>\n",
       "      <td>0.0</td>\n",
       "    </tr>\n",
       "    <tr>\n",
       "      <th>2P%</th>\n",
       "      <td>0</td>\n",
       "      <td>0.0</td>\n",
       "    </tr>\n",
       "    <tr>\n",
       "      <th>eFG%</th>\n",
       "      <td>0</td>\n",
       "      <td>0.0</td>\n",
       "    </tr>\n",
       "    <tr>\n",
       "      <th>FT</th>\n",
       "      <td>0</td>\n",
       "      <td>0.0</td>\n",
       "    </tr>\n",
       "    <tr>\n",
       "      <th>FTA</th>\n",
       "      <td>0</td>\n",
       "      <td>0.0</td>\n",
       "    </tr>\n",
       "    <tr>\n",
       "      <th>FT%</th>\n",
       "      <td>0</td>\n",
       "      <td>0.0</td>\n",
       "    </tr>\n",
       "    <tr>\n",
       "      <th>ORB</th>\n",
       "      <td>0</td>\n",
       "      <td>0.0</td>\n",
       "    </tr>\n",
       "    <tr>\n",
       "      <th>DRB</th>\n",
       "      <td>0</td>\n",
       "      <td>0.0</td>\n",
       "    </tr>\n",
       "    <tr>\n",
       "      <th>TRB</th>\n",
       "      <td>0</td>\n",
       "      <td>0.0</td>\n",
       "    </tr>\n",
       "    <tr>\n",
       "      <th>AST</th>\n",
       "      <td>0</td>\n",
       "      <td>0.0</td>\n",
       "    </tr>\n",
       "    <tr>\n",
       "      <th>STL</th>\n",
       "      <td>0</td>\n",
       "      <td>0.0</td>\n",
       "    </tr>\n",
       "    <tr>\n",
       "      <th>BLK</th>\n",
       "      <td>0</td>\n",
       "      <td>0.0</td>\n",
       "    </tr>\n",
       "    <tr>\n",
       "      <th>TOV</th>\n",
       "      <td>0</td>\n",
       "      <td>0.0</td>\n",
       "    </tr>\n",
       "    <tr>\n",
       "      <th>PF</th>\n",
       "      <td>0</td>\n",
       "      <td>0.0</td>\n",
       "    </tr>\n",
       "    <tr>\n",
       "      <th>PTS</th>\n",
       "      <td>0</td>\n",
       "      <td>0.0</td>\n",
       "    </tr>\n",
       "    <tr>\n",
       "      <th>url</th>\n",
       "      <td>0</td>\n",
       "      <td>0.0</td>\n",
       "    </tr>\n",
       "  </tbody>\n",
       "</table>\n",
       "</div>"
      ],
      "text/plain": [
       "        missing_count  missing_ratio\n",
       "Player              0            0.0\n",
       "Pos                 0            0.0\n",
       "Age                 0            0.0\n",
       "Tm                  0            0.0\n",
       "G                   0            0.0\n",
       "GS                  0            0.0\n",
       "MP                  0            0.0\n",
       "FG                  0            0.0\n",
       "FGA                 0            0.0\n",
       "FG%                 0            0.0\n",
       "3P                  0            0.0\n",
       "3PA                 0            0.0\n",
       "3P%                 0            0.0\n",
       "2P                  0            0.0\n",
       "2PA                 0            0.0\n",
       "2P%                 0            0.0\n",
       "eFG%                0            0.0\n",
       "FT                  0            0.0\n",
       "FTA                 0            0.0\n",
       "FT%                 0            0.0\n",
       "ORB                 0            0.0\n",
       "DRB                 0            0.0\n",
       "TRB                 0            0.0\n",
       "AST                 0            0.0\n",
       "STL                 0            0.0\n",
       "BLK                 0            0.0\n",
       "TOV                 0            0.0\n",
       "PF                  0            0.0\n",
       "PTS                 0            0.0\n",
       "url                 0            0.0"
      ]
     },
     "execution_count": 5,
     "metadata": {},
     "output_type": "execute_result"
    }
   ],
   "source": [
    "find_missing(df)"
   ]
  },
  {
   "cell_type": "markdown",
   "metadata": {},
   "source": [
    "### Z-Scoring"
   ]
  },
  {
   "cell_type": "code",
   "execution_count": 11,
   "metadata": {},
   "outputs": [],
   "source": [
    "####PICK UP HERE\n",
    "### SCORE Z SCORE BY THE 11 COLUMNS AND ADD IT BACK INTO REGULAR DF"
   ]
  },
  {
   "cell_type": "code",
   "execution_count": 6,
   "metadata": {},
   "outputs": [],
   "source": [
    "pr = df[['Player','FG%','FGA','FT','FT%','FTA','3P','3P%','3PA','TRB','AST','STL','BLK','TOV','PTS']]\n",
    "pr.set_index('Player', inplace = True)"
   ]
  },
  {
   "cell_type": "code",
   "execution_count": 7,
   "metadata": {},
   "outputs": [
    {
     "name": "stderr",
     "output_type": "stream",
     "text": [
      "C:\\Users\\bhuan\\Anaconda3\\lib\\site-packages\\ipykernel_launcher.py:2: SettingWithCopyWarning: \n",
      "A value is trying to be set on a copy of a slice from a DataFrame.\n",
      "Try using .loc[row_indexer,col_indexer] = value instead\n",
      "\n",
      "See the caveats in the documentation: http://pandas.pydata.org/pandas-docs/stable/user_guide/indexing.html#returning-a-view-versus-a-copy\n",
      "  \n"
     ]
    }
   ],
   "source": [
    "for i in range(0,len(pr.columns)):\n",
    "    pr[pr.columns[i]] = sc.stats.zscore(pr[pr.columns[i]], ddof = 1)"
   ]
  },
  {
   "cell_type": "code",
   "execution_count": 8,
   "metadata": {},
   "outputs": [
    {
     "name": "stderr",
     "output_type": "stream",
     "text": [
      "C:\\Users\\bhuan\\Anaconda3\\lib\\site-packages\\ipykernel_launcher.py:1: SettingWithCopyWarning: \n",
      "A value is trying to be set on a copy of a slice from a DataFrame.\n",
      "Try using .loc[row_indexer,col_indexer] = value instead\n",
      "\n",
      "See the caveats in the documentation: http://pandas.pydata.org/pandas-docs/stable/user_guide/indexing.html#returning-a-view-versus-a-copy\n",
      "  \"\"\"Entry point for launching an IPython kernel.\n",
      "C:\\Users\\bhuan\\Anaconda3\\lib\\site-packages\\ipykernel_launcher.py:2: SettingWithCopyWarning: \n",
      "A value is trying to be set on a copy of a slice from a DataFrame.\n",
      "Try using .loc[row_indexer,col_indexer] = value instead\n",
      "\n",
      "See the caveats in the documentation: http://pandas.pydata.org/pandas-docs/stable/user_guide/indexing.html#returning-a-view-versus-a-copy\n",
      "  \n",
      "C:\\Users\\bhuan\\Anaconda3\\lib\\site-packages\\ipykernel_launcher.py:3: SettingWithCopyWarning: \n",
      "A value is trying to be set on a copy of a slice from a DataFrame.\n",
      "Try using .loc[row_indexer,col_indexer] = value instead\n",
      "\n",
      "See the caveats in the documentation: http://pandas.pydata.org/pandas-docs/stable/user_guide/indexing.html#returning-a-view-versus-a-copy\n",
      "  This is separate from the ipykernel package so we can avoid doing imports until\n",
      "C:\\Users\\bhuan\\Anaconda3\\lib\\site-packages\\ipykernel_launcher.py:4: SettingWithCopyWarning: \n",
      "A value is trying to be set on a copy of a slice from a DataFrame.\n",
      "Try using .loc[row_indexer,col_indexer] = value instead\n",
      "\n",
      "See the caveats in the documentation: http://pandas.pydata.org/pandas-docs/stable/user_guide/indexing.html#returning-a-view-versus-a-copy\n",
      "  after removing the cwd from sys.path.\n"
     ]
    }
   ],
   "source": [
    "pr['FG%_Adj'] = ''\n",
    "pr['FT%_Adj'] = ''\n",
    "pr['3P%_Adj'] = ''\n",
    "pr['PR_sum'] = ''"
   ]
  },
  {
   "cell_type": "code",
   "execution_count": 9,
   "metadata": {},
   "outputs": [
    {
     "name": "stderr",
     "output_type": "stream",
     "text": [
      "C:\\Users\\bhuan\\Anaconda3\\lib\\site-packages\\ipykernel_launcher.py:1: SettingWithCopyWarning: \n",
      "A value is trying to be set on a copy of a slice from a DataFrame.\n",
      "Try using .loc[row_indexer,col_indexer] = value instead\n",
      "\n",
      "See the caveats in the documentation: http://pandas.pydata.org/pandas-docs/stable/user_guide/indexing.html#returning-a-view-versus-a-copy\n",
      "  \"\"\"Entry point for launching an IPython kernel.\n"
     ]
    }
   ],
   "source": [
    "pr['TOV'] = pr['TOV'] * -1"
   ]
  },
  {
   "cell_type": "code",
   "execution_count": 10,
   "metadata": {},
   "outputs": [
    {
     "name": "stderr",
     "output_type": "stream",
     "text": [
      "C:\\Users\\bhuan\\Anaconda3\\lib\\site-packages\\ipykernel_launcher.py:5: SettingWithCopyWarning: \n",
      "A value is trying to be set on a copy of a slice from a DataFrame\n",
      "\n",
      "See the caveats in the documentation: http://pandas.pydata.org/pandas-docs/stable/user_guide/indexing.html#returning-a-view-versus-a-copy\n",
      "  \"\"\"\n",
      "C:\\Users\\bhuan\\Anaconda3\\lib\\site-packages\\IPython\\core\\interactiveshell.py:3326: SettingWithCopyWarning: \n",
      "A value is trying to be set on a copy of a slice from a DataFrame\n",
      "\n",
      "See the caveats in the documentation: http://pandas.pydata.org/pandas-docs/stable/user_guide/indexing.html#returning-a-view-versus-a-copy\n",
      "  exec(code_obj, self.user_global_ns, self.user_ns)\n",
      "C:\\Users\\bhuan\\Anaconda3\\lib\\site-packages\\ipykernel_launcher.py:3: SettingWithCopyWarning: \n",
      "A value is trying to be set on a copy of a slice from a DataFrame\n",
      "\n",
      "See the caveats in the documentation: http://pandas.pydata.org/pandas-docs/stable/user_guide/indexing.html#returning-a-view-versus-a-copy\n",
      "  This is separate from the ipykernel package so we can avoid doing imports until\n"
     ]
    }
   ],
   "source": [
    "for i in range(0,len(pr)):\n",
    "    if pr['FT%'][i]<0 and pr['FTA'][i]<0:\n",
    "        pr['FT%_Adj'][i] = pr['FT%'][i] * pr['FTA'][i] * -1\n",
    "    else:\n",
    "        pr['FT%_Adj'][i] = pr['FT%'][i] * pr['FTA'][i]"
   ]
  },
  {
   "cell_type": "code",
   "execution_count": 11,
   "metadata": {},
   "outputs": [
    {
     "name": "stderr",
     "output_type": "stream",
     "text": [
      "C:\\Users\\bhuan\\Anaconda3\\lib\\site-packages\\ipykernel_launcher.py:5: SettingWithCopyWarning: \n",
      "A value is trying to be set on a copy of a slice from a DataFrame\n",
      "\n",
      "See the caveats in the documentation: http://pandas.pydata.org/pandas-docs/stable/user_guide/indexing.html#returning-a-view-versus-a-copy\n",
      "  \"\"\"\n",
      "C:\\Users\\bhuan\\Anaconda3\\lib\\site-packages\\ipykernel_launcher.py:3: SettingWithCopyWarning: \n",
      "A value is trying to be set on a copy of a slice from a DataFrame\n",
      "\n",
      "See the caveats in the documentation: http://pandas.pydata.org/pandas-docs/stable/user_guide/indexing.html#returning-a-view-versus-a-copy\n",
      "  This is separate from the ipykernel package so we can avoid doing imports until\n"
     ]
    }
   ],
   "source": [
    "for i in range(0,len(pr)):\n",
    "    if pr['3P%'][i]<0 and pr['3PA'][i]<0:\n",
    "        pr['3P%_Adj'][i] = pr['3P%'][i] * pr['3PA'][i] * -1\n",
    "    else:\n",
    "        pr['3P%_Adj'][i] = pr['3P%'][i] * pr['3PA'][i]"
   ]
  },
  {
   "cell_type": "code",
   "execution_count": 12,
   "metadata": {},
   "outputs": [
    {
     "name": "stderr",
     "output_type": "stream",
     "text": [
      "C:\\Users\\bhuan\\Anaconda3\\lib\\site-packages\\ipykernel_launcher.py:5: SettingWithCopyWarning: \n",
      "A value is trying to be set on a copy of a slice from a DataFrame\n",
      "\n",
      "See the caveats in the documentation: http://pandas.pydata.org/pandas-docs/stable/user_guide/indexing.html#returning-a-view-versus-a-copy\n",
      "  \"\"\"\n",
      "C:\\Users\\bhuan\\Anaconda3\\lib\\site-packages\\ipykernel_launcher.py:3: SettingWithCopyWarning: \n",
      "A value is trying to be set on a copy of a slice from a DataFrame\n",
      "\n",
      "See the caveats in the documentation: http://pandas.pydata.org/pandas-docs/stable/user_guide/indexing.html#returning-a-view-versus-a-copy\n",
      "  This is separate from the ipykernel package so we can avoid doing imports until\n"
     ]
    }
   ],
   "source": [
    "for i in range(0,len(pr)):\n",
    "    if pr['FG%'][i]<0 and pr['FGA'][i]<0:\n",
    "        pr['FG%_Adj'][i] = pr['FG%'][i] * pr['FGA'][i] * -1\n",
    "    else:\n",
    "        pr['FG%_Adj'][i] = pr['FG%'][i] * pr['FGA'][i]"
   ]
  },
  {
   "cell_type": "code",
   "execution_count": 13,
   "metadata": {},
   "outputs": [
    {
     "name": "stderr",
     "output_type": "stream",
     "text": [
      "C:\\Users\\bhuan\\Anaconda3\\lib\\site-packages\\ipykernel_launcher.py:2: SettingWithCopyWarning: \n",
      "A value is trying to be set on a copy of a slice from a DataFrame\n",
      "\n",
      "See the caveats in the documentation: http://pandas.pydata.org/pandas-docs/stable/user_guide/indexing.html#returning-a-view-versus-a-copy\n",
      "  \n"
     ]
    }
   ],
   "source": [
    "for i in range(0,len(pr)):\n",
    "    pr['PR_sum'][i] = pr['FG%_Adj'][i] + pr['FT%_Adj'][i] + pr['FT'][i] + pr['3P'][i] + pr['AST'][i] +pr['TRB'][i] + pr['STL'][i] + pr['BLK'][i] + pr['TOV'][i] + pr['PTS'][i]"
   ]
  },
  {
   "cell_type": "code",
   "execution_count": 14,
   "metadata": {},
   "outputs": [
    {
     "data": {
      "text/html": [
       "<div>\n",
       "<style scoped>\n",
       "    .dataframe tbody tr th:only-of-type {\n",
       "        vertical-align: middle;\n",
       "    }\n",
       "\n",
       "    .dataframe tbody tr th {\n",
       "        vertical-align: top;\n",
       "    }\n",
       "\n",
       "    .dataframe thead th {\n",
       "        text-align: right;\n",
       "    }\n",
       "</style>\n",
       "<table border=\"1\" class=\"dataframe\">\n",
       "  <thead>\n",
       "    <tr style=\"text-align: right;\">\n",
       "      <th></th>\n",
       "      <th>FG%</th>\n",
       "      <th>FGA</th>\n",
       "      <th>FT</th>\n",
       "      <th>FT%</th>\n",
       "      <th>FTA</th>\n",
       "      <th>3P</th>\n",
       "      <th>3P%</th>\n",
       "      <th>3PA</th>\n",
       "      <th>TRB</th>\n",
       "      <th>AST</th>\n",
       "      <th>STL</th>\n",
       "      <th>BLK</th>\n",
       "      <th>TOV</th>\n",
       "      <th>PTS</th>\n",
       "      <th>FG%_Adj</th>\n",
       "      <th>FT%_Adj</th>\n",
       "      <th>3P%_Adj</th>\n",
       "      <th>PR_sum</th>\n",
       "    </tr>\n",
       "    <tr>\n",
       "      <th>Player</th>\n",
       "      <th></th>\n",
       "      <th></th>\n",
       "      <th></th>\n",
       "      <th></th>\n",
       "      <th></th>\n",
       "      <th></th>\n",
       "      <th></th>\n",
       "      <th></th>\n",
       "      <th></th>\n",
       "      <th></th>\n",
       "      <th></th>\n",
       "      <th></th>\n",
       "      <th></th>\n",
       "      <th></th>\n",
       "      <th></th>\n",
       "      <th></th>\n",
       "      <th></th>\n",
       "      <th></th>\n",
       "    </tr>\n",
       "  </thead>\n",
       "  <tbody>\n",
       "    <tr>\n",
       "      <th>Steven Adams</th>\n",
       "      <td>1.551148</td>\n",
       "      <td>0.037531</td>\n",
       "      <td>0.307640</td>\n",
       "      <td>-0.955482</td>\n",
       "      <td>0.736552</td>\n",
       "      <td>-1.163252</td>\n",
       "      <td>0.175866</td>\n",
       "      <td>-1.281715</td>\n",
       "      <td>2.226574</td>\n",
       "      <td>0.157903</td>\n",
       "      <td>0.370727</td>\n",
       "      <td>1.621224</td>\n",
       "      <td>-0.395636</td>\n",
       "      <td>0.264439</td>\n",
       "      <td>0.0582169</td>\n",
       "      <td>-0.703762</td>\n",
       "      <td>-0.22541</td>\n",
       "      <td>2.74407</td>\n",
       "    </tr>\n",
       "    <tr>\n",
       "      <th>Bam Adebayo</th>\n",
       "      <td>1.160969</td>\n",
       "      <td>0.759304</td>\n",
       "      <td>1.579705</td>\n",
       "      <td>-0.264118</td>\n",
       "      <td>1.941980</td>\n",
       "      <td>-1.163252</td>\n",
       "      <td>-1.273965</td>\n",
       "      <td>-1.191226</td>\n",
       "      <td>2.591891</td>\n",
       "      <td>1.738786</td>\n",
       "      <td>1.136826</td>\n",
       "      <td>2.102354</td>\n",
       "      <td>-1.996130</td>\n",
       "      <td>1.057235</td>\n",
       "      <td>0.881529</td>\n",
       "      <td>-0.512911</td>\n",
       "      <td>-1.51758</td>\n",
       "      <td>7.41603</td>\n",
       "    </tr>\n",
       "    <tr>\n",
       "      <th>LaMarcus Aldridge</th>\n",
       "      <td>0.447499</td>\n",
       "      <td>1.608449</td>\n",
       "      <td>1.085013</td>\n",
       "      <td>0.598501</td>\n",
       "      <td>0.966157</td>\n",
       "      <td>0.234660</td>\n",
       "      <td>0.603185</td>\n",
       "      <td>0.075625</td>\n",
       "      <td>1.455350</td>\n",
       "      <td>0.214363</td>\n",
       "      <td>0.115361</td>\n",
       "      <td>2.824051</td>\n",
       "      <td>-0.272521</td>\n",
       "      <td>1.532912</td>\n",
       "      <td>0.719778</td>\n",
       "      <td>0.578246</td>\n",
       "      <td>0.0456156</td>\n",
       "      <td>8.48721</td>\n",
       "    </tr>\n",
       "    <tr>\n",
       "      <th>Nickeil Alexander-Walker</th>\n",
       "      <td>-0.945998</td>\n",
       "      <td>-0.365812</td>\n",
       "      <td>-0.681743</td>\n",
       "      <td>-0.359260</td>\n",
       "      <td>-0.641080</td>\n",
       "      <td>0.001674</td>\n",
       "      <td>0.275065</td>\n",
       "      <td>-0.014865</td>\n",
       "      <td>-0.817733</td>\n",
       "      <td>-0.067938</td>\n",
       "      <td>-0.650739</td>\n",
       "      <td>-0.543866</td>\n",
       "      <td>0.096823</td>\n",
       "      <td>-0.560069</td>\n",
       "      <td>-0.346058</td>\n",
       "      <td>-0.230314</td>\n",
       "      <td>-0.00408878</td>\n",
       "      <td>-3.79996</td>\n",
       "    </tr>\n",
       "    <tr>\n",
       "      <th>Grayson Allen</th>\n",
       "      <td>0.146503</td>\n",
       "      <td>-0.174755</td>\n",
       "      <td>-0.328392</td>\n",
       "      <td>0.852213</td>\n",
       "      <td>-0.411474</td>\n",
       "      <td>0.584138</td>\n",
       "      <td>0.717645</td>\n",
       "      <td>0.392337</td>\n",
       "      <td>-0.655370</td>\n",
       "      <td>-0.350238</td>\n",
       "      <td>-0.906105</td>\n",
       "      <td>-0.784431</td>\n",
       "      <td>0.343053</td>\n",
       "      <td>-0.084391</td>\n",
       "      <td>-0.0256021</td>\n",
       "      <td>-0.350664</td>\n",
       "      <td>0.281559</td>\n",
       "      <td>-2.558</td>\n",
       "    </tr>\n",
       "    <tr>\n",
       "      <th>...</th>\n",
       "      <td>...</td>\n",
       "      <td>...</td>\n",
       "      <td>...</td>\n",
       "      <td>...</td>\n",
       "      <td>...</td>\n",
       "      <td>...</td>\n",
       "      <td>...</td>\n",
       "      <td>...</td>\n",
       "      <td>...</td>\n",
       "      <td>...</td>\n",
       "      <td>...</td>\n",
       "      <td>...</td>\n",
       "      <td>...</td>\n",
       "      <td>...</td>\n",
       "      <td>...</td>\n",
       "      <td>...</td>\n",
       "      <td>...</td>\n",
       "      <td>...</td>\n",
       "    </tr>\n",
       "    <tr>\n",
       "      <th>Trae Young</th>\n",
       "      <td>-0.176788</td>\n",
       "      <td>2.839708</td>\n",
       "      <td>4.618526</td>\n",
       "      <td>0.807813</td>\n",
       "      <td>4.238032</td>\n",
       "      <td>2.797497</td>\n",
       "      <td>0.389526</td>\n",
       "      <td>3.016527</td>\n",
       "      <td>0.197036</td>\n",
       "      <td>4.110111</td>\n",
       "      <td>1.136826</td>\n",
       "      <td>-0.784431</td>\n",
       "      <td>-4.458429</td>\n",
       "      <td>3.229496</td>\n",
       "      <td>-0.502027</td>\n",
       "      <td>3.42354</td>\n",
       "      <td>1.17501</td>\n",
       "      <td>13.7681</td>\n",
       "    </tr>\n",
       "    <tr>\n",
       "      <th>Cody Zeller</th>\n",
       "      <td>0.793086</td>\n",
       "      <td>0.186132</td>\n",
       "      <td>0.448981</td>\n",
       "      <td>-0.321203</td>\n",
       "      <td>0.679151</td>\n",
       "      <td>-0.813774</td>\n",
       "      <td>-0.533788</td>\n",
       "      <td>-0.693535</td>\n",
       "      <td>1.333578</td>\n",
       "      <td>-0.293778</td>\n",
       "      <td>0.115361</td>\n",
       "      <td>-0.062735</td>\n",
       "      <td>-0.149406</td>\n",
       "      <td>0.296151</td>\n",
       "      <td>0.147618</td>\n",
       "      <td>-0.218145</td>\n",
       "      <td>-0.3702</td>\n",
       "      <td>0.80385</td>\n",
       "    </tr>\n",
       "    <tr>\n",
       "      <th>Ante Žižić</th>\n",
       "      <td>1.294745</td>\n",
       "      <td>-0.875299</td>\n",
       "      <td>-0.611073</td>\n",
       "      <td>0.027650</td>\n",
       "      <td>-0.583678</td>\n",
       "      <td>-1.163252</td>\n",
       "      <td>-2.365154</td>\n",
       "      <td>-1.281715</td>\n",
       "      <td>-0.330644</td>\n",
       "      <td>-0.971300</td>\n",
       "      <td>-0.906105</td>\n",
       "      <td>-0.543866</td>\n",
       "      <td>0.835513</td>\n",
       "      <td>-0.766196</td>\n",
       "      <td>-1.13329</td>\n",
       "      <td>-0.0161389</td>\n",
       "      <td>-3.03145</td>\n",
       "      <td>-5.60635</td>\n",
       "    </tr>\n",
       "    <tr>\n",
       "      <th>Ivica Zubac</th>\n",
       "      <td>1.785256</td>\n",
       "      <td>-0.450727</td>\n",
       "      <td>0.166300</td>\n",
       "      <td>0.091078</td>\n",
       "      <td>0.219940</td>\n",
       "      <td>-1.163252</td>\n",
       "      <td>-2.365154</td>\n",
       "      <td>-1.281715</td>\n",
       "      <td>1.495941</td>\n",
       "      <td>-0.519619</td>\n",
       "      <td>-1.161471</td>\n",
       "      <td>1.140093</td>\n",
       "      <td>0.466168</td>\n",
       "      <td>-0.147815</td>\n",
       "      <td>-0.804662</td>\n",
       "      <td>0.0200318</td>\n",
       "      <td>-3.03145</td>\n",
       "      <td>-0.508286</td>\n",
       "    </tr>\n",
       "    <tr>\n",
       "      <th>EmptyInj Slot</th>\n",
       "      <td>-5.048454</td>\n",
       "      <td>-1.575843</td>\n",
       "      <td>-1.035094</td>\n",
       "      <td>-4.646983</td>\n",
       "      <td>-1.100290</td>\n",
       "      <td>-1.163252</td>\n",
       "      <td>-2.365154</td>\n",
       "      <td>-1.281715</td>\n",
       "      <td>-1.548367</td>\n",
       "      <td>-1.140680</td>\n",
       "      <td>-1.672204</td>\n",
       "      <td>-1.024997</td>\n",
       "      <td>1.451088</td>\n",
       "      <td>-1.463856</td>\n",
       "      <td>-7.95557</td>\n",
       "      <td>-5.11303</td>\n",
       "      <td>-3.03145</td>\n",
       "      <td>-20.666</td>\n",
       "    </tr>\n",
       "  </tbody>\n",
       "</table>\n",
       "<p>487 rows × 18 columns</p>\n",
       "</div>"
      ],
      "text/plain": [
       "                               FG%       FGA        FT       FT%       FTA  \\\n",
       "Player                                                                       \n",
       "Steven Adams              1.551148  0.037531  0.307640 -0.955482  0.736552   \n",
       "Bam Adebayo               1.160969  0.759304  1.579705 -0.264118  1.941980   \n",
       "LaMarcus Aldridge         0.447499  1.608449  1.085013  0.598501  0.966157   \n",
       "Nickeil Alexander-Walker -0.945998 -0.365812 -0.681743 -0.359260 -0.641080   \n",
       "Grayson Allen             0.146503 -0.174755 -0.328392  0.852213 -0.411474   \n",
       "...                            ...       ...       ...       ...       ...   \n",
       "Trae Young               -0.176788  2.839708  4.618526  0.807813  4.238032   \n",
       "Cody Zeller               0.793086  0.186132  0.448981 -0.321203  0.679151   \n",
       "Ante Žižić                1.294745 -0.875299 -0.611073  0.027650 -0.583678   \n",
       "Ivica Zubac               1.785256 -0.450727  0.166300  0.091078  0.219940   \n",
       "EmptyInj Slot            -5.048454 -1.575843 -1.035094 -4.646983 -1.100290   \n",
       "\n",
       "                                3P       3P%       3PA       TRB       AST  \\\n",
       "Player                                                                       \n",
       "Steven Adams             -1.163252  0.175866 -1.281715  2.226574  0.157903   \n",
       "Bam Adebayo              -1.163252 -1.273965 -1.191226  2.591891  1.738786   \n",
       "LaMarcus Aldridge         0.234660  0.603185  0.075625  1.455350  0.214363   \n",
       "Nickeil Alexander-Walker  0.001674  0.275065 -0.014865 -0.817733 -0.067938   \n",
       "Grayson Allen             0.584138  0.717645  0.392337 -0.655370 -0.350238   \n",
       "...                            ...       ...       ...       ...       ...   \n",
       "Trae Young                2.797497  0.389526  3.016527  0.197036  4.110111   \n",
       "Cody Zeller              -0.813774 -0.533788 -0.693535  1.333578 -0.293778   \n",
       "Ante Žižić               -1.163252 -2.365154 -1.281715 -0.330644 -0.971300   \n",
       "Ivica Zubac              -1.163252 -2.365154 -1.281715  1.495941 -0.519619   \n",
       "EmptyInj Slot            -1.163252 -2.365154 -1.281715 -1.548367 -1.140680   \n",
       "\n",
       "                               STL       BLK       TOV       PTS    FG%_Adj  \\\n",
       "Player                                                                        \n",
       "Steven Adams              0.370727  1.621224 -0.395636  0.264439  0.0582169   \n",
       "Bam Adebayo               1.136826  2.102354 -1.996130  1.057235   0.881529   \n",
       "LaMarcus Aldridge         0.115361  2.824051 -0.272521  1.532912   0.719778   \n",
       "Nickeil Alexander-Walker -0.650739 -0.543866  0.096823 -0.560069  -0.346058   \n",
       "Grayson Allen            -0.906105 -0.784431  0.343053 -0.084391 -0.0256021   \n",
       "...                            ...       ...       ...       ...        ...   \n",
       "Trae Young                1.136826 -0.784431 -4.458429  3.229496  -0.502027   \n",
       "Cody Zeller               0.115361 -0.062735 -0.149406  0.296151   0.147618   \n",
       "Ante Žižić               -0.906105 -0.543866  0.835513 -0.766196   -1.13329   \n",
       "Ivica Zubac              -1.161471  1.140093  0.466168 -0.147815  -0.804662   \n",
       "EmptyInj Slot            -1.672204 -1.024997  1.451088 -1.463856   -7.95557   \n",
       "\n",
       "                            FT%_Adj     3P%_Adj    PR_sum  \n",
       "Player                                                     \n",
       "Steven Adams              -0.703762    -0.22541   2.74407  \n",
       "Bam Adebayo               -0.512911    -1.51758   7.41603  \n",
       "LaMarcus Aldridge          0.578246   0.0456156   8.48721  \n",
       "Nickeil Alexander-Walker  -0.230314 -0.00408878  -3.79996  \n",
       "Grayson Allen             -0.350664    0.281559    -2.558  \n",
       "...                             ...         ...       ...  \n",
       "Trae Young                  3.42354     1.17501   13.7681  \n",
       "Cody Zeller               -0.218145     -0.3702   0.80385  \n",
       "Ante Žižić               -0.0161389    -3.03145  -5.60635  \n",
       "Ivica Zubac               0.0200318    -3.03145 -0.508286  \n",
       "EmptyInj Slot              -5.11303    -3.03145   -20.666  \n",
       "\n",
       "[487 rows x 18 columns]"
      ]
     },
     "execution_count": 14,
     "metadata": {},
     "output_type": "execute_result"
    }
   ],
   "source": [
    "pr"
   ]
  },
  {
   "cell_type": "code",
   "execution_count": 15,
   "metadata": {},
   "outputs": [],
   "source": [
    "pr.to_csv('injpr.csv', index = True)"
   ]
  },
  {
   "cell_type": "code",
   "execution_count": 20,
   "metadata": {},
   "outputs": [
    {
     "data": {
      "application/javascript": [
       "\n",
       "        if (window._pyforest_update_imports_cell) { window._pyforest_update_imports_cell('import pandas as pd\\nimport matplotlib.pyplot as plt'); }\n",
       "    "
      ],
      "text/plain": [
       "<IPython.core.display.Javascript object>"
      ]
     },
     "metadata": {},
     "output_type": "display_data"
    },
    {
     "ename": "AttributeError",
     "evalue": "'float' object has no attribute 'dtype'",
     "output_type": "error",
     "traceback": [
      "\u001b[1;31m---------------------------------------------------------------------------\u001b[0m",
      "\u001b[1;31mAttributeError\u001b[0m                            Traceback (most recent call last)",
      "\u001b[1;32m<ipython-input-20-9cc19d8759b3>\u001b[0m in \u001b[0;36m<module>\u001b[1;34m\u001b[0m\n\u001b[1;32m----> 1\u001b[1;33m \u001b[0mplt\u001b[0m\u001b[1;33m.\u001b[0m\u001b[0mhist\u001b[0m\u001b[1;33m(\u001b[0m\u001b[0mpr\u001b[0m\u001b[1;33m[\u001b[0m\u001b[1;34m'PR_sum'\u001b[0m\u001b[1;33m]\u001b[0m\u001b[1;33m,\u001b[0m \u001b[0mbins\u001b[0m \u001b[1;33m=\u001b[0m \u001b[1;36m50\u001b[0m\u001b[1;33m)\u001b[0m\u001b[1;33m;\u001b[0m\u001b[1;33m\u001b[0m\u001b[1;33m\u001b[0m\u001b[0m\n\u001b[0m\u001b[0;32m      2\u001b[0m \u001b[1;31m#79\u001b[0m\u001b[1;33m\u001b[0m\u001b[1;33m\u001b[0m\u001b[1;33m\u001b[0m\u001b[0m\n",
      "\u001b[1;32m~\\Anaconda3\\lib\\site-packages\\matplotlib\\pyplot.py\u001b[0m in \u001b[0;36mhist\u001b[1;34m(x, bins, range, density, weights, cumulative, bottom, histtype, align, orientation, rwidth, log, color, label, stacked, data, **kwargs)\u001b[0m\n\u001b[0;32m   2608\u001b[0m         \u001b[0malign\u001b[0m\u001b[1;33m=\u001b[0m\u001b[0malign\u001b[0m\u001b[1;33m,\u001b[0m \u001b[0morientation\u001b[0m\u001b[1;33m=\u001b[0m\u001b[0morientation\u001b[0m\u001b[1;33m,\u001b[0m \u001b[0mrwidth\u001b[0m\u001b[1;33m=\u001b[0m\u001b[0mrwidth\u001b[0m\u001b[1;33m,\u001b[0m \u001b[0mlog\u001b[0m\u001b[1;33m=\u001b[0m\u001b[0mlog\u001b[0m\u001b[1;33m,\u001b[0m\u001b[1;33m\u001b[0m\u001b[1;33m\u001b[0m\u001b[0m\n\u001b[0;32m   2609\u001b[0m         color=color, label=label, stacked=stacked, **({\"data\": data}\n\u001b[1;32m-> 2610\u001b[1;33m         if data is not None else {}), **kwargs)\n\u001b[0m\u001b[0;32m   2611\u001b[0m \u001b[1;33m\u001b[0m\u001b[0m\n\u001b[0;32m   2612\u001b[0m \u001b[1;33m\u001b[0m\u001b[0m\n",
      "\u001b[1;32m~\\Anaconda3\\lib\\site-packages\\matplotlib\\__init__.py\u001b[0m in \u001b[0;36minner\u001b[1;34m(ax, data, *args, **kwargs)\u001b[0m\n\u001b[0;32m   1563\u001b[0m     \u001b[1;32mdef\u001b[0m \u001b[0minner\u001b[0m\u001b[1;33m(\u001b[0m\u001b[0max\u001b[0m\u001b[1;33m,\u001b[0m \u001b[1;33m*\u001b[0m\u001b[0margs\u001b[0m\u001b[1;33m,\u001b[0m \u001b[0mdata\u001b[0m\u001b[1;33m=\u001b[0m\u001b[1;32mNone\u001b[0m\u001b[1;33m,\u001b[0m \u001b[1;33m**\u001b[0m\u001b[0mkwargs\u001b[0m\u001b[1;33m)\u001b[0m\u001b[1;33m:\u001b[0m\u001b[1;33m\u001b[0m\u001b[1;33m\u001b[0m\u001b[0m\n\u001b[0;32m   1564\u001b[0m         \u001b[1;32mif\u001b[0m \u001b[0mdata\u001b[0m \u001b[1;32mis\u001b[0m \u001b[1;32mNone\u001b[0m\u001b[1;33m:\u001b[0m\u001b[1;33m\u001b[0m\u001b[1;33m\u001b[0m\u001b[0m\n\u001b[1;32m-> 1565\u001b[1;33m             \u001b[1;32mreturn\u001b[0m \u001b[0mfunc\u001b[0m\u001b[1;33m(\u001b[0m\u001b[0max\u001b[0m\u001b[1;33m,\u001b[0m \u001b[1;33m*\u001b[0m\u001b[0mmap\u001b[0m\u001b[1;33m(\u001b[0m\u001b[0msanitize_sequence\u001b[0m\u001b[1;33m,\u001b[0m \u001b[0margs\u001b[0m\u001b[1;33m)\u001b[0m\u001b[1;33m,\u001b[0m \u001b[1;33m**\u001b[0m\u001b[0mkwargs\u001b[0m\u001b[1;33m)\u001b[0m\u001b[1;33m\u001b[0m\u001b[1;33m\u001b[0m\u001b[0m\n\u001b[0m\u001b[0;32m   1566\u001b[0m \u001b[1;33m\u001b[0m\u001b[0m\n\u001b[0;32m   1567\u001b[0m         \u001b[0mbound\u001b[0m \u001b[1;33m=\u001b[0m \u001b[0mnew_sig\u001b[0m\u001b[1;33m.\u001b[0m\u001b[0mbind\u001b[0m\u001b[1;33m(\u001b[0m\u001b[0max\u001b[0m\u001b[1;33m,\u001b[0m \u001b[1;33m*\u001b[0m\u001b[0margs\u001b[0m\u001b[1;33m,\u001b[0m \u001b[1;33m**\u001b[0m\u001b[0mkwargs\u001b[0m\u001b[1;33m)\u001b[0m\u001b[1;33m\u001b[0m\u001b[1;33m\u001b[0m\u001b[0m\n",
      "\u001b[1;32m~\\Anaconda3\\lib\\site-packages\\matplotlib\\axes\\_axes.py\u001b[0m in \u001b[0;36mhist\u001b[1;34m(self, x, bins, range, density, weights, cumulative, bottom, histtype, align, orientation, rwidth, log, color, label, stacked, **kwargs)\u001b[0m\n\u001b[0;32m   6617\u001b[0m                     \u001b[1;31m# python's min/max ignore nan,\u001b[0m\u001b[1;33m\u001b[0m\u001b[1;33m\u001b[0m\u001b[1;33m\u001b[0m\u001b[0m\n\u001b[0;32m   6618\u001b[0m                     \u001b[1;31m# np.minnan returns nan for all nan input\u001b[0m\u001b[1;33m\u001b[0m\u001b[1;33m\u001b[0m\u001b[1;33m\u001b[0m\u001b[0m\n\u001b[1;32m-> 6619\u001b[1;33m                     \u001b[0mxmin\u001b[0m \u001b[1;33m=\u001b[0m \u001b[0mmin\u001b[0m\u001b[1;33m(\u001b[0m\u001b[0mxmin\u001b[0m\u001b[1;33m,\u001b[0m \u001b[0mnp\u001b[0m\u001b[1;33m.\u001b[0m\u001b[0mnanmin\u001b[0m\u001b[1;33m(\u001b[0m\u001b[0mxi\u001b[0m\u001b[1;33m)\u001b[0m\u001b[1;33m)\u001b[0m\u001b[1;33m\u001b[0m\u001b[1;33m\u001b[0m\u001b[0m\n\u001b[0m\u001b[0;32m   6620\u001b[0m                     \u001b[0mxmax\u001b[0m \u001b[1;33m=\u001b[0m \u001b[0mmax\u001b[0m\u001b[1;33m(\u001b[0m\u001b[0mxmax\u001b[0m\u001b[1;33m,\u001b[0m \u001b[0mnp\u001b[0m\u001b[1;33m.\u001b[0m\u001b[0mnanmax\u001b[0m\u001b[1;33m(\u001b[0m\u001b[0mxi\u001b[0m\u001b[1;33m)\u001b[0m\u001b[1;33m)\u001b[0m\u001b[1;33m\u001b[0m\u001b[1;33m\u001b[0m\u001b[0m\n\u001b[0;32m   6621\u001b[0m             \u001b[1;31m# make sure we have seen at least one non-nan and finite\u001b[0m\u001b[1;33m\u001b[0m\u001b[1;33m\u001b[0m\u001b[1;33m\u001b[0m\u001b[0m\n",
      "\u001b[1;32m<__array_function__ internals>\u001b[0m in \u001b[0;36mnanmin\u001b[1;34m(*args, **kwargs)\u001b[0m\n",
      "\u001b[1;32m~\\Anaconda3\\lib\\site-packages\\numpy\\lib\\nanfunctions.py\u001b[0m in \u001b[0;36mnanmin\u001b[1;34m(a, axis, out, keepdims)\u001b[0m\n\u001b[0;32m    333\u001b[0m         \u001b[0mmask\u001b[0m \u001b[1;33m=\u001b[0m \u001b[0mnp\u001b[0m\u001b[1;33m.\u001b[0m\u001b[0mall\u001b[0m\u001b[1;33m(\u001b[0m\u001b[0mmask\u001b[0m\u001b[1;33m,\u001b[0m \u001b[0maxis\u001b[0m\u001b[1;33m=\u001b[0m\u001b[0maxis\u001b[0m\u001b[1;33m,\u001b[0m \u001b[1;33m**\u001b[0m\u001b[0mkwargs\u001b[0m\u001b[1;33m)\u001b[0m\u001b[1;33m\u001b[0m\u001b[1;33m\u001b[0m\u001b[0m\n\u001b[0;32m    334\u001b[0m         \u001b[1;32mif\u001b[0m \u001b[0mnp\u001b[0m\u001b[1;33m.\u001b[0m\u001b[0many\u001b[0m\u001b[1;33m(\u001b[0m\u001b[0mmask\u001b[0m\u001b[1;33m)\u001b[0m\u001b[1;33m:\u001b[0m\u001b[1;33m\u001b[0m\u001b[1;33m\u001b[0m\u001b[0m\n\u001b[1;32m--> 335\u001b[1;33m             \u001b[0mres\u001b[0m \u001b[1;33m=\u001b[0m \u001b[0m_copyto\u001b[0m\u001b[1;33m(\u001b[0m\u001b[0mres\u001b[0m\u001b[1;33m,\u001b[0m \u001b[0mnp\u001b[0m\u001b[1;33m.\u001b[0m\u001b[0mnan\u001b[0m\u001b[1;33m,\u001b[0m \u001b[0mmask\u001b[0m\u001b[1;33m)\u001b[0m\u001b[1;33m\u001b[0m\u001b[1;33m\u001b[0m\u001b[0m\n\u001b[0m\u001b[0;32m    336\u001b[0m             warnings.warn(\"All-NaN axis encountered\", RuntimeWarning,\n\u001b[0;32m    337\u001b[0m                           stacklevel=3)\n",
      "\u001b[1;32m~\\Anaconda3\\lib\\site-packages\\numpy\\lib\\nanfunctions.py\u001b[0m in \u001b[0;36m_copyto\u001b[1;34m(a, val, mask)\u001b[0m\n\u001b[0;32m    138\u001b[0m         \u001b[0mnp\u001b[0m\u001b[1;33m.\u001b[0m\u001b[0mcopyto\u001b[0m\u001b[1;33m(\u001b[0m\u001b[0ma\u001b[0m\u001b[1;33m,\u001b[0m \u001b[0mval\u001b[0m\u001b[1;33m,\u001b[0m \u001b[0mwhere\u001b[0m\u001b[1;33m=\u001b[0m\u001b[0mmask\u001b[0m\u001b[1;33m,\u001b[0m \u001b[0mcasting\u001b[0m\u001b[1;33m=\u001b[0m\u001b[1;34m'unsafe'\u001b[0m\u001b[1;33m)\u001b[0m\u001b[1;33m\u001b[0m\u001b[1;33m\u001b[0m\u001b[0m\n\u001b[0;32m    139\u001b[0m     \u001b[1;32melse\u001b[0m\u001b[1;33m:\u001b[0m\u001b[1;33m\u001b[0m\u001b[1;33m\u001b[0m\u001b[0m\n\u001b[1;32m--> 140\u001b[1;33m         \u001b[0ma\u001b[0m \u001b[1;33m=\u001b[0m \u001b[0ma\u001b[0m\u001b[1;33m.\u001b[0m\u001b[0mdtype\u001b[0m\u001b[1;33m.\u001b[0m\u001b[0mtype\u001b[0m\u001b[1;33m(\u001b[0m\u001b[0mval\u001b[0m\u001b[1;33m)\u001b[0m\u001b[1;33m\u001b[0m\u001b[1;33m\u001b[0m\u001b[0m\n\u001b[0m\u001b[0;32m    141\u001b[0m     \u001b[1;32mreturn\u001b[0m \u001b[0ma\u001b[0m\u001b[1;33m\u001b[0m\u001b[1;33m\u001b[0m\u001b[0m\n\u001b[0;32m    142\u001b[0m \u001b[1;33m\u001b[0m\u001b[0m\n",
      "\u001b[1;31mAttributeError\u001b[0m: 'float' object has no attribute 'dtype'"
     ]
    },
    {
     "data": {
      "image/png": "[encoded data removed]",
      "text/plain": [
       "<Figure size 432x288 with 1 Axes>"
      ]
     },
     "metadata": {
      "needs_background": "light"
     },
     "output_type": "display_data"
    }
   ],
   "source": [
    "plt.hist(pr['PR_sum'], bins = 50);\n",
    "#79"
   ]
  },
  {
   "cell_type": "code",
   "execution_count": 42,
   "metadata": {},
   "outputs": [
    {
     "data": {
      "application/javascript": [
       "\n",
       "        if (window._pyforest_update_imports_cell) { window._pyforest_update_imports_cell('import pandas as pd\\nimport matplotlib.pyplot as plt'); }\n",
       "    "
      ],
      "text/plain": [
       "<IPython.core.display.Javascript object>"
      ]
     },
     "metadata": {},
     "output_type": "display_data"
    },
    {
     "data": {
      "image/png": "[encoded data removed]",
      "text/plain": [
       "<Figure size 432x288 with 1 Axes>"
      ]
     },
     "metadata": {
      "needs_background": "light"
     },
     "output_type": "display_data"
    }
   ],
   "source": [
    "plt.hist(pr['PR_sum'], bins = 50);\n",
    "#01"
   ]
  },
  {
   "cell_type": "code",
   "execution_count": 21,
   "metadata": {},
   "outputs": [
    {
     "data": {
      "application/javascript": [
       "\n",
       "        if (window._pyforest_update_imports_cell) { window._pyforest_update_imports_cell('import pandas as pd\\nimport matplotlib.pyplot as plt'); }\n",
       "    "
      ],
      "text/plain": [
       "<IPython.core.display.Javascript object>"
      ]
     },
     "metadata": {},
     "output_type": "display_data"
    },
    {
     "data": {
      "image/png": "[encoded data removed]",
      "text/plain": [
       "<Figure size 432x288 with 1 Axes>"
      ]
     },
     "metadata": {
      "needs_background": "light"
     },
     "output_type": "display_data"
    }
   ],
   "source": [
    "plt.hist(pr['PR_sum'], bins = 50);\n",
    "#86"
   ]
  },
  {
   "cell_type": "code",
   "execution_count": 36,
   "metadata": {},
   "outputs": [
    {
     "data": {
      "application/javascript": [
       "\n",
       "        if (window._pyforest_update_imports_cell) { window._pyforest_update_imports_cell('import matplotlib.pyplot as plt\\nimport pandas as pd'); }\n",
       "    "
      ],
      "text/plain": [
       "<IPython.core.display.Javascript object>"
      ]
     },
     "metadata": {},
     "output_type": "display_data"
    },
    {
     "data": {
      "image/png": "[encoded data removed]",
      "text/plain": [
       "<Figure size 432x288 with 1 Axes>"
      ]
     },
     "metadata": {
      "needs_background": "light"
     },
     "output_type": "display_data"
    }
   ],
   "source": [
    "plt.hist(pr['PR_sum'], bins = 50);\n",
    "#96"
   ]
  },
  {
   "cell_type": "code",
   "execution_count": 199,
   "metadata": {},
   "outputs": [
    {
     "data": {
      "application/javascript": [
       "\n",
       "        if (window._pyforest_update_imports_cell) { window._pyforest_update_imports_cell('from sklearn.ensemble import GradientBoostingClassifier\\nfrom sklearn.ensemble import GradientBoostingRegressor\\nimport pandas as pd\\nfrom sklearn.ensemble import RandomForestRegressor\\nimport matplotlib.pyplot as plt\\nfrom pathlib import Path\\nfrom sklearn.ensemble import RandomForestClassifier\\nfrom sklearn.preprocessing import OneHotEncoder'); }\n",
       "    "
      ],
      "text/plain": [
       "<IPython.core.display.Javascript object>"
      ]
     },
     "metadata": {},
     "output_type": "display_data"
    },
    {
     "data": {
      "image/png": "[encoded data removed]",
      "text/plain": [
       "<Figure size 432x288 with 1 Axes>"
      ]
     },
     "metadata": {
      "needs_background": "light"
     },
     "output_type": "display_data"
    }
   ],
   "source": [
    "plt.hist(pr['PR_sum'], bins = 50);\n",
    "#18"
   ]
  },
  {
   "cell_type": "code",
   "execution_count": 217,
   "metadata": {},
   "outputs": [
    {
     "data": {
      "application/javascript": [
       "\n",
       "        if (window._pyforest_update_imports_cell) { window._pyforest_update_imports_cell('from sklearn.ensemble import GradientBoostingClassifier\\nfrom sklearn.ensemble import GradientBoostingRegressor\\nimport pandas as pd\\nfrom sklearn.ensemble import RandomForestRegressor\\nimport matplotlib.pyplot as plt\\nfrom pathlib import Path\\nfrom sklearn.ensemble import RandomForestClassifier\\nfrom sklearn.preprocessing import OneHotEncoder'); }\n",
       "    "
      ],
      "text/plain": [
       "<IPython.core.display.Javascript object>"
      ]
     },
     "metadata": {},
     "output_type": "display_data"
    },
    {
     "data": {
      "image/png": "[encoded data removed]",
      "text/plain": [
       "<Figure size 432x288 with 1 Axes>"
      ]
     },
     "metadata": {
      "needs_background": "light"
     },
     "output_type": "display_data"
    }
   ],
   "source": [
    "plt.hist(pr['PR_sum'], bins = 50);\n",
    "#17"
   ]
  },
  {
   "cell_type": "code",
   "execution_count": 218,
   "metadata": {},
   "outputs": [],
   "source": [
    "from sklearn.neighbors import KernelDensity\n",
    "\n",
    "# instantiate and fit the KDE model\n",
    "kde = KernelDensity(bandwidth=1.0, kernel='gaussian')"
   ]
  },
  {
   "cell_type": "code",
   "execution_count": 220,
   "metadata": {},
   "outputs": [
    {
     "ename": "ValueError",
     "evalue": "Expected 2D array, got 1D array instead:\narray=[ -3.1065295   -1.98341301   3.09637558  -3.07996251  -3.9737752\n  -7.24791607   6.26267396  -4.37553452   3.54601593   3.53744593\n  -5.48094603  -6.74294459  -1.42868029  -2.73949155   5.35232384\n  13.7950023    6.1362703  -11.59924495   6.95207773  -1.19158071\n  -5.13955112  -2.46584527  -2.80492564  -4.19020821  -7.25097744\n  -4.49236297  -0.43218815   3.86403431   0.7650872    3.54811736\n  -5.58542932   5.26098021  -5.09309741   2.06391404   9.37540545\n  -5.69208144  -2.4002083   -0.27825863  -9.23801431  -6.47073827\n  -2.92465387  -3.27424018   6.28212756  -2.47675748  -0.77855793\n  -2.05718396   7.34566394   0.65704623  -3.80979448  -8.99058296\n   3.19822759   3.13179392   6.05115422  -3.32719836   1.2623249\n  -4.55954022  -8.78412002  -9.20659495  -3.02572345  -5.36771619\n  -2.56608651  -5.5587129   -3.45548081  13.01680279 -11.85907433\n  -5.936667     3.5640444   -5.16849252   2.5388649    2.40315804\n   1.69027551  -1.43583852  -3.51084828  -2.69838556   0.63094794\n   4.27728835   1.49370081  -7.24787946  -6.84661006  -3.26026529\n   1.06128066  -6.66814528   1.36775471 -11.07413541   9.43885186\n  -7.52779096  -7.00330519  13.23151989   7.73320956   1.02137526\n  -0.59917785   1.61768294   5.95722138  -0.64808764   3.03085694\n  15.89031856  -0.92026575  16.50127116  -8.87710698  -3.90954382\n  -3.59255824  -1.08063595  -4.85836593  -1.75969723   1.5546855\n   6.82223831  -4.54880552  -4.29110735   5.49319778  -0.59262772\n  -2.90911229   5.80371594   8.43256061  -0.44210326  -3.48027968\n  -2.70415639  15.75046279  -7.3677997    1.14141404  -0.53339612\n   9.84611009  -0.41357767  -5.42554934   0.02523401  -3.62534804\n   1.33384035   2.35338076  -5.41119767  -4.86906668  -1.3790938\n   1.00528052  -2.6035306   -7.84125147   2.93578637  -4.129629\n  -0.49083055   1.15620243   6.4373746   -0.43665069   8.34748908\n   4.24708474   7.92001092 -16.8959467  -12.53845903  10.90819822\n  -4.32438441   1.58628489   0.39795139   8.27925287  -4.00690018\n   2.99253179   4.83281568   2.34497784  -8.37749499  -1.51142106\n  -2.7380677    2.25455935   9.87807141  -4.30626364   2.18629269\n  -1.70699943   7.24768957   0.57713136  -7.86055236   2.02891623\n  15.673189     3.5835621   -2.42554456  -2.21499734   4.92045966\n  -0.60504698   3.80555421  -2.67676852  -7.93057231  -2.13285883\n   8.20465917  -1.28316243  -1.00447767  -2.43772606   1.46072797\n  -4.09551233  -5.25235586  -0.25217484  -1.30441902   5.19471899\n -10.44518918   0.58894344  -6.51765825   6.04108699  -0.49478571\n   1.42812129   2.5143354    0.91413539   7.82450115   3.60235898\n  -7.03395041  -2.7104952    7.15568133   1.61011263   3.48258485\n   1.15597625  -0.79913578  10.416414    -5.29505161   0.39358998\n  11.2428314   -4.28265484  -3.16635217  -0.55189425  -2.8512218\n  -0.69952574   4.05131049  -0.48595322  -3.07294733   4.25118279\n  -4.72313896   9.86022534  -9.33751476  -3.40981182  -6.62611843\n   1.95524742  -3.51952566   4.14732548  -0.75956183   1.98837703\n   2.21357579  -8.66388983   3.07402456   0.07905683  -2.066904\n   1.41058906  -2.93257564  -2.92775701  -1.45441442  -0.4587849\n  -7.46867492  -2.89594439   5.50876519   0.24708002  -7.61331162\n   2.41903085  -2.8180107    1.91578743  13.9142281   -2.94743614\n   0.60300547  -0.48700365  -5.37098626  11.5351696    3.96698797\n  -4.70032722   0.65858422  -5.86835859   8.41905477   1.89873072\n  10.97331561  12.57431795  -3.63371822  -1.99419736  -6.42025141\n  -2.08703179  -3.07635843  -3.56926297  -5.6995909   -4.2116436\n   3.47258005  -2.05586291  -5.8886757   -3.80433856   8.52754662\n   0.62234376  -7.97535897  -4.33338283  -2.32410407  -5.92245982\n  -0.74768878  -2.5620157   -5.55837772  -2.59494744  -0.07912625\n  -5.14524994  -8.89888542   3.91450711   1.93005117  -9.19688169\n   0.63861881   7.39502077   3.82221731   1.15511142   0.17326764\n   2.25224278   4.16511993  -4.6680367   -3.61022724  -3.43346839\n  -0.99683193  -2.02109435  -6.45649354  -0.69795104  -1.22743041\n   2.96449878  -4.87265934  -4.70123968   0.6180474   -5.94441165\n -13.22393205  -6.42660882   1.90307736   0.85049992  -0.6796686\n -16.16631327   3.53469452   0.31324528  -3.29767446  -7.46037142\n   0.76933474 -13.87029094  -1.82785454   3.9301449    0.49562179\n -15.50666524  -1.41522881  -1.73925753  -5.80628768   6.43605827\n  -2.49010024  -2.87309679   1.39168697  11.69365509  -4.20848002\n  -4.25366651   3.67747719  -5.70382348  -5.80371396  -9.29378091\n   1.67488629  -7.21869906  -7.64753946   8.50923469  -1.99810733\n   9.38034397  -0.10267467  -2.06362969   1.94692569  -8.79085144\n -11.16825362  -4.85211338   3.46430099   2.40533168   3.2664973\n  -1.96226661   2.62214054  -6.13514196  -0.50488521   2.70946583\n  -7.0273083   -1.35896456  -5.30176284  -0.63149297   2.10964621\n   2.03024655   1.68694232  -2.04926489   5.52074127 -12.54558675\n  -2.72523332   3.66165348  -2.42843946   1.72653544  -4.97831063\n   2.1795946   -2.41801713  -7.15797034   2.36242856  -5.05145115\n  -7.61436875  -3.72071281  -0.17246051  -3.06505284  -2.94590935\n  -5.95256007   3.57007591   0.03967373   2.23006177  -3.18243822\n   0.65357232   0.69207742  -4.47143905   0.2971149   -3.78697901\n -13.98785343  -4.22398427  -5.86567126   5.51826119  -2.45262411\n   1.72059842  -2.9594023   13.08351587  -2.77710017  -2.60981675\n   9.36747463   2.24969765  -2.60309698   0.08347552  15.87312246\n   2.52040115  -0.29750138   8.38211425  -4.94369121  -2.29817449\n  -3.01197227   3.04863182  -3.08945565  -6.8628405   -8.73684115\n  -6.96602677  -2.06888461   7.43974678  -6.22020609   4.64628272\n   2.46238985   9.90252004   9.36470711  -2.32428195   4.74973236\n  -4.34926579  -5.67386579  -3.23156215  15.12103015  -5.67135929\n  -2.24451007   9.23925955   4.16119011 -12.1339609   -1.43986948\n  -0.59435566  -3.56416275   4.36719579   4.80684685  -4.81427965\n  -2.28606819 -10.66463391   0.87214482  -6.51862661  -6.59072842\n  -7.79116145  -4.97087241  -1.35237287  -5.87301903  -8.02386052\n   3.44459921   3.68500111   1.47920016  -7.33569747 -10.16932587\n  -3.34065244  -3.05413421].\nReshape your data either using array.reshape(-1, 1) if your data has a single feature or array.reshape(1, -1) if it contains a single sample.",
     "output_type": "error",
     "traceback": [
      "\u001b[1;31m---------------------------------------------------------------------------\u001b[0m",
      "\u001b[1;31mValueError\u001b[0m                                Traceback (most recent call last)",
      "\u001b[1;32m<ipython-input-220-5c2d711f9486>\u001b[0m in \u001b[0;36m<module>\u001b[1;34m\u001b[0m\n\u001b[1;32m----> 1\u001b[1;33m \u001b[0mkde\u001b[0m\u001b[1;33m.\u001b[0m\u001b[0mfit\u001b[0m\u001b[1;33m(\u001b[0m\u001b[0mpr\u001b[0m\u001b[1;33m[\u001b[0m\u001b[1;34m'PR_sum'\u001b[0m\u001b[1;33m]\u001b[0m\u001b[1;33m)\u001b[0m\u001b[1;33m\u001b[0m\u001b[1;33m\u001b[0m\u001b[0m\n\u001b[0m",
      "\u001b[1;32m~\\Anaconda3\\lib\\site-packages\\sklearn\\neighbors\\kde.py\u001b[0m in \u001b[0;36mfit\u001b[1;34m(self, X, y, sample_weight)\u001b[0m\n\u001b[0;32m    126\u001b[0m         \"\"\"\n\u001b[0;32m    127\u001b[0m         \u001b[0malgorithm\u001b[0m \u001b[1;33m=\u001b[0m \u001b[0mself\u001b[0m\u001b[1;33m.\u001b[0m\u001b[0m_choose_algorithm\u001b[0m\u001b[1;33m(\u001b[0m\u001b[0mself\u001b[0m\u001b[1;33m.\u001b[0m\u001b[0malgorithm\u001b[0m\u001b[1;33m,\u001b[0m \u001b[0mself\u001b[0m\u001b[1;33m.\u001b[0m\u001b[0mmetric\u001b[0m\u001b[1;33m)\u001b[0m\u001b[1;33m\u001b[0m\u001b[1;33m\u001b[0m\u001b[0m\n\u001b[1;32m--> 128\u001b[1;33m         \u001b[0mX\u001b[0m \u001b[1;33m=\u001b[0m \u001b[0mcheck_array\u001b[0m\u001b[1;33m(\u001b[0m\u001b[0mX\u001b[0m\u001b[1;33m,\u001b[0m \u001b[0morder\u001b[0m\u001b[1;33m=\u001b[0m\u001b[1;34m'C'\u001b[0m\u001b[1;33m,\u001b[0m \u001b[0mdtype\u001b[0m\u001b[1;33m=\u001b[0m\u001b[0mDTYPE\u001b[0m\u001b[1;33m)\u001b[0m\u001b[1;33m\u001b[0m\u001b[1;33m\u001b[0m\u001b[0m\n\u001b[0m\u001b[0;32m    129\u001b[0m \u001b[1;33m\u001b[0m\u001b[0m\n\u001b[0;32m    130\u001b[0m         \u001b[1;32mif\u001b[0m \u001b[0msample_weight\u001b[0m \u001b[1;32mis\u001b[0m \u001b[1;32mnot\u001b[0m \u001b[1;32mNone\u001b[0m\u001b[1;33m:\u001b[0m\u001b[1;33m\u001b[0m\u001b[1;33m\u001b[0m\u001b[0m\n",
      "\u001b[1;32m~\\Anaconda3\\lib\\site-packages\\sklearn\\utils\\validation.py\u001b[0m in \u001b[0;36mcheck_array\u001b[1;34m(array, accept_sparse, accept_large_sparse, dtype, order, copy, force_all_finite, ensure_2d, allow_nd, ensure_min_samples, ensure_min_features, warn_on_dtype, estimator)\u001b[0m\n\u001b[0;32m    519\u001b[0m                     \u001b[1;34m\"Reshape your data either using array.reshape(-1, 1) if \"\u001b[0m\u001b[1;33m\u001b[0m\u001b[1;33m\u001b[0m\u001b[0m\n\u001b[0;32m    520\u001b[0m                     \u001b[1;34m\"your data has a single feature or array.reshape(1, -1) \"\u001b[0m\u001b[1;33m\u001b[0m\u001b[1;33m\u001b[0m\u001b[0m\n\u001b[1;32m--> 521\u001b[1;33m                     \"if it contains a single sample.\".format(array))\n\u001b[0m\u001b[0;32m    522\u001b[0m \u001b[1;33m\u001b[0m\u001b[0m\n\u001b[0;32m    523\u001b[0m         \u001b[1;31m# in the future np.flexible dtypes will be handled like object dtypes\u001b[0m\u001b[1;33m\u001b[0m\u001b[1;33m\u001b[0m\u001b[1;33m\u001b[0m\u001b[0m\n",
      "\u001b[1;31mValueError\u001b[0m: Expected 2D array, got 1D array instead:\narray=[ -3.1065295   -1.98341301   3.09637558  -3.07996251  -3.9737752\n  -7.24791607   6.26267396  -4.37553452   3.54601593   3.53744593\n  -5.48094603  -6.74294459  -1.42868029  -2.73949155   5.35232384\n  13.7950023    6.1362703  -11.59924495   6.95207773  -1.19158071\n  -5.13955112  -2.46584527  -2.80492564  -4.19020821  -7.25097744\n  -4.49236297  -0.43218815   3.86403431   0.7650872    3.54811736\n  -5.58542932   5.26098021  -5.09309741   2.06391404   9.37540545\n  -5.69208144  -2.4002083   -0.27825863  -9.23801431  -6.47073827\n  -2.92465387  -3.27424018   6.28212756  -2.47675748  -0.77855793\n  -2.05718396   7.34566394   0.65704623  -3.80979448  -8.99058296\n   3.19822759   3.13179392   6.05115422  -3.32719836   1.2623249\n  -4.55954022  -8.78412002  -9.20659495  -3.02572345  -5.36771619\n  -2.56608651  -5.5587129   -3.45548081  13.01680279 -11.85907433\n  -5.936667     3.5640444   -5.16849252   2.5388649    2.40315804\n   1.69027551  -1.43583852  -3.51084828  -2.69838556   0.63094794\n   4.27728835   1.49370081  -7.24787946  -6.84661006  -3.26026529\n   1.06128066  -6.66814528   1.36775471 -11.07413541   9.43885186\n  -7.52779096  -7.00330519  13.23151989   7.73320956   1.02137526\n  -0.59917785   1.61768294   5.95722138  -0.64808764   3.03085694\n  15.89031856  -0.92026575  16.50127116  -8.87710698  -3.90954382\n  -3.59255824  -1.08063595  -4.85836593  -1.75969723   1.5546855\n   6.82223831  -4.54880552  -4.29110735   5.49319778  -0.59262772\n  -2.90911229   5.80371594   8.43256061  -0.44210326  -3.48027968\n  -2.70415639  15.75046279  -7.3677997    1.14141404  -0.53339612\n   9.84611009  -0.41357767  -5.42554934   0.02523401  -3.62534804\n   1.33384035   2.35338076  -5.41119767  -4.86906668  -1.3790938\n   1.00528052  -2.6035306   -7.84125147   2.93578637  -4.129629\n  -0.49083055   1.15620243   6.4373746   -0.43665069   8.34748908\n   4.24708474   7.92001092 -16.8959467  -12.53845903  10.90819822\n  -4.32438441   1.58628489   0.39795139   8.27925287  -4.00690018\n   2.99253179   4.83281568   2.34497784  -8.37749499  -1.51142106\n  -2.7380677    2.25455935   9.87807141  -4.30626364   2.18629269\n  -1.70699943   7.24768957   0.57713136  -7.86055236   2.02891623\n  15.673189     3.5835621   -2.42554456  -2.21499734   4.92045966\n  -0.60504698   3.80555421  -2.67676852  -7.93057231  -2.13285883\n   8.20465917  -1.28316243  -1.00447767  -2.43772606   1.46072797\n  -4.09551233  -5.25235586  -0.25217484  -1.30441902   5.19471899\n -10.44518918   0.58894344  -6.51765825   6.04108699  -0.49478571\n   1.42812129   2.5143354    0.91413539   7.82450115   3.60235898\n  -7.03395041  -2.7104952    7.15568133   1.61011263   3.48258485\n   1.15597625  -0.79913578  10.416414    -5.29505161   0.39358998\n  11.2428314   -4.28265484  -3.16635217  -0.55189425  -2.8512218\n  -0.69952574   4.05131049  -0.48595322  -3.07294733   4.25118279\n  -4.72313896   9.86022534  -9.33751476  -3.40981182  -6.62611843\n   1.95524742  -3.51952566   4.14732548  -0.75956183   1.98837703\n   2.21357579  -8.66388983   3.07402456   0.07905683  -2.066904\n   1.41058906  -2.93257564  -2.92775701  -1.45441442  -0.4587849\n  -7.46867492  -2.89594439   5.50876519   0.24708002  -7.61331162\n   2.41903085  -2.8180107    1.91578743  13.9142281   -2.94743614\n   0.60300547  -0.48700365  -5.37098626  11.5351696    3.96698797\n  -4.70032722   0.65858422  -5.86835859   8.41905477   1.89873072\n  10.97331561  12.57431795  -3.63371822  -1.99419736  -6.42025141\n  -2.08703179  -3.07635843  -3.56926297  -5.6995909   -4.2116436\n   3.47258005  -2.05586291  -5.8886757   -3.80433856   8.52754662\n   0.62234376  -7.97535897  -4.33338283  -2.32410407  -5.92245982\n  -0.74768878  -2.5620157   -5.55837772  -2.59494744  -0.07912625\n  -5.14524994  -8.89888542   3.91450711   1.93005117  -9.19688169\n   0.63861881   7.39502077   3.82221731   1.15511142   0.17326764\n   2.25224278   4.16511993  -4.6680367   -3.61022724  -3.43346839\n  -0.99683193  -2.02109435  -6.45649354  -0.69795104  -1.22743041\n   2.96449878  -4.87265934  -4.70123968   0.6180474   -5.94441165\n -13.22393205  -6.42660882   1.90307736   0.85049992  -0.6796686\n -16.16631327   3.53469452   0.31324528  -3.29767446  -7.46037142\n   0.76933474 -13.87029094  -1.82785454   3.9301449    0.49562179\n -15.50666524  -1.41522881  -1.73925753  -5.80628768   6.43605827\n  -2.49010024  -2.87309679   1.39168697  11.69365509  -4.20848002\n  -4.25366651   3.67747719  -5.70382348  -5.80371396  -9.29378091\n   1.67488629  -7.21869906  -7.64753946   8.50923469  -1.99810733\n   9.38034397  -0.10267467  -2.06362969   1.94692569  -8.79085144\n -11.16825362  -4.85211338   3.46430099   2.40533168   3.2664973\n  -1.96226661   2.62214054  -6.13514196  -0.50488521   2.70946583\n  -7.0273083   -1.35896456  -5.30176284  -0.63149297   2.10964621\n   2.03024655   1.68694232  -2.04926489   5.52074127 -12.54558675\n  -2.72523332   3.66165348  -2.42843946   1.72653544  -4.97831063\n   2.1795946   -2.41801713  -7.15797034   2.36242856  -5.05145115\n  -7.61436875  -3.72071281  -0.17246051  -3.06505284  -2.94590935\n  -5.95256007   3.57007591   0.03967373   2.23006177  -3.18243822\n   0.65357232   0.69207742  -4.47143905   0.2971149   -3.78697901\n -13.98785343  -4.22398427  -5.86567126   5.51826119  -2.45262411\n   1.72059842  -2.9594023   13.08351587  -2.77710017  -2.60981675\n   9.36747463   2.24969765  -2.60309698   0.08347552  15.87312246\n   2.52040115  -0.29750138   8.38211425  -4.94369121  -2.29817449\n  -3.01197227   3.04863182  -3.08945565  -6.8628405   -8.73684115\n  -6.96602677  -2.06888461   7.43974678  -6.22020609   4.64628272\n   2.46238985   9.90252004   9.36470711  -2.32428195   4.74973236\n  -4.34926579  -5.67386579  -3.23156215  15.12103015  -5.67135929\n  -2.24451007   9.23925955   4.16119011 -12.1339609   -1.43986948\n  -0.59435566  -3.56416275   4.36719579   4.80684685  -4.81427965\n  -2.28606819 -10.66463391   0.87214482  -6.51862661  -6.59072842\n  -7.79116145  -4.97087241  -1.35237287  -5.87301903  -8.02386052\n   3.44459921   3.68500111   1.47920016  -7.33569747 -10.16932587\n  -3.34065244  -3.05413421].\nReshape your data either using array.reshape(-1, 1) if your data has a single feature or array.reshape(1, -1) if it contains a single sample."
     ]
    }
   ],
   "source": [
    "kde.fit(pr['PR_sum'])"
   ]
  },
  {
   "cell_type": "code",
   "execution_count": null,
   "metadata": {},
   "outputs": [],
   "source": []
  }
 ],
 "metadata": {
  "kernelspec": {
   "display_name": "Python 3",
   "language": "python",
   "name": "python3"
  },
  "language_info": {
   "codemirror_mode": {
    "name": "ipython",
    "version": 3
   },
   "file_extension": ".py",
   "mimetype": "text/x-python",
   "name": "python",
   "nbconvert_exporter": "python",
   "pygments_lexer": "ipython3",
   "version": "3.7.4"
  }
 },
 "nbformat": 4,
 "nbformat_minor": 2
}
